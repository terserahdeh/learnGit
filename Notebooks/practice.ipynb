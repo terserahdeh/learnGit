{
 "cells": [
  {
   "metadata": {},
   "cell_type": "markdown",
   "source": [
    "# PRACTICE TIME!! &#128074;\n",
    "\n",
    "![meme](https://media.giphy.com/media/13rQ7rrTrvZXlm/giphy.gif?cid=790b7611tbr19hibmoipc9i7bd6u754u1l2a831y9hbjcsd8&ep=v1_gifs_search&rid=giphy.gif&ct=g)\n",
    "\n",
    "### And one more thing...\n",
    "\n",
    "try to not open Gen AI tools if you are stuck okayy >_<"
   ],
   "id": "609c7d0913b26a99"
  },
  {
   "metadata": {},
   "cell_type": "markdown",
   "source": [
    "# Easy level\n",
    "### Test case 1 : write a function to check if a number is even or odd\n",
    "\n",
    "***You can only write 1 line in a function***"
   ],
   "id": "3af06eb55927dedc"
  },
  {
   "metadata": {
    "ExecuteTime": {
     "end_time": "2025-02-07T08:50:23.736158Z",
     "start_time": "2025-02-07T08:50:23.732847Z"
    }
   },
   "cell_type": "code",
   "source": [
    "# write and continue the code down here\n",
    "# def ...(...):\n",
    "#     return ...\n",
    "\n",
    "# Test\n",
    "# print(...(4))  # Expected: Even\n",
    "# print(...(7))  # Expected: Odd\n",
    "\n",
    "# The output should be like below"
   ],
   "id": "6d7c24b7bcc5b80d",
   "outputs": [
    {
     "name": "stdout",
     "output_type": "stream",
     "text": [
      "The number is Even\n",
      "The number is Odd\n"
     ]
    }
   ],
   "execution_count": 7
  },
  {
   "metadata": {},
   "cell_type": "markdown",
   "source": [
    "# Medium level\n",
    "\n",
    "### Test case 2 : write a function to check for anagrams\n",
    "\n",
    "Checks if two strings are anagrams by comparing their sorted characters.\n",
    "\n"
   ],
   "id": "a883ea0dbe17769c"
  },
  {
   "metadata": {
    "ExecuteTime": {
     "end_time": "2025-02-08T07:41:36.884705Z",
     "start_time": "2025-02-08T07:41:36.879705Z"
    }
   },
   "cell_type": "code",
   "source": [
    "# def ...(str1, str2):\n",
    "#     return ...\n",
    "\n",
    "# # Test\n",
    "# print(...(\"listen\", \"silent\"))  # Expected: True\n",
    "# print(...(\"hello\", \"world\"))    # Expected: False"
   ],
   "id": "279b3b0bb509fc93",
   "outputs": [
    {
     "name": "stdout",
     "output_type": "stream",
     "text": [
      "True\n",
      "False\n"
     ]
    }
   ],
   "execution_count": 1
  },
  {
   "metadata": {},
   "cell_type": "markdown",
   "source": [
    "# Medium level\n",
    "### Test case 3 : write a function to calculate the factorial of a number"
   ],
   "id": "5be0a99705f164a9"
  },
  {
   "metadata": {},
   "cell_type": "code",
   "outputs": [],
   "execution_count": null,
   "source": [
    "# def ...(...):\n",
    "#     return ...\n",
    "#\n",
    "# # Test\n",
    "# print(...(5))  # Expected: 120\n",
    "# print(...(0))  # Expected: 1"
   ],
   "id": "3a5dfba656b0ae8d"
  },
  {
   "metadata": {},
   "cell_type": "markdown",
   "source": [
    "# Hard level\n",
    "### Test case 4 : write a function if a string is a palindrome\n",
    "\n",
    "***Only 1 line of code is permitted in a function***"
   ],
   "id": "91e9e53f463c85b3"
  },
  {
   "metadata": {
    "ExecuteTime": {
     "end_time": "2025-02-08T07:58:37.038581Z",
     "start_time": "2025-02-08T07:58:37.033123Z"
    }
   },
   "cell_type": "code",
   "source": [
    "# def ...(...):\n",
    "#      return ...\n",
    "#\n",
    "# # Test\n",
    "# print(...(\"racecar\"))  # Expected: True\n",
    "# print(...(\"python\"))   # Expected: False\n",
    "# print(...(\"habibah\")) # Expected : True"
   ],
   "id": "38c87a81a904a09d",
   "outputs": [
    {
     "name": "stdout",
     "output_type": "stream",
     "text": [
      "True\n",
      "False\n",
      "True\n"
     ]
    }
   ],
   "execution_count": 2
  },
  {
   "metadata": {},
   "cell_type": "markdown",
   "source": [
    "# Expert level\n",
    "### Test case 5 : create a class to represent a Bank Account with deposit and withdrawal methods"
   ],
   "id": "2a48d58b92c9ecff"
  },
  {
   "metadata": {
    "ExecuteTime": {
     "end_time": "2025-02-09T16:18:19.041012Z",
     "start_time": "2025-02-09T16:18:19.035604Z"
    }
   },
   "cell_type": "code",
   "source": [
    "# class BankAccount:\n",
    "#     def ...(self, ...):\n",
    "#         self.\n",
    "#\n",
    "#     def deposit(self, ...):\n",
    "\n",
    "#         return ...\n",
    "#\n",
    "#     def withdraw(self, ...):\n",
    "\n",
    "#         return ...\n",
    "#\n",
    "# # Test\n",
    "# account = BankAccount(\"Name\")\n",
    "# print(account.deposit(1000))   # Expected: Deposited 1000. New balance: 1000\n",
    "# print(account.withdraw(500))   # Expected: Withdrew 500. New balance: 500\n",
    "# print(account.withdraw(600))   # Expected: Invalid withdrawal amount or insufficient funds\n",
    "\n",
    "# The output should be right below for example"
   ],
   "id": "d8cb2ddeda85fa11",
   "outputs": [
    {
     "name": "stdout",
     "output_type": "stream",
     "text": [
      "Deposited 1000. New balance: 1000\n",
      "Withdrew 500. New balance: 500\n",
      "Invalid withdrawal amount or insufficient funds\n"
     ]
    }
   ],
   "execution_count": 2
  }
 ],
 "metadata": {
  "kernelspec": {
   "display_name": "Python 3",
   "language": "python",
   "name": "python3"
  },
  "language_info": {
   "codemirror_mode": {
    "name": "ipython",
    "version": 2
   },
   "file_extension": ".py",
   "mimetype": "text/x-python",
   "name": "python",
   "nbconvert_exporter": "python",
   "pygments_lexer": "ipython2",
   "version": "2.7.6"
  }
 },
 "nbformat": 4,
 "nbformat_minor": 5
}
