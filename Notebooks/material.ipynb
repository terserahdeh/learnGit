{
 "cells": [
  {
   "metadata": {},
   "cell_type": "markdown",
   "source": [
    "# WELCOME TO PYTHON 101 &#128212;\n",
    "\n",
    "![Learning Python](https://media.giphy.com/media/coxQHKASG60HrHtvkt/giphy.gif?cid=790b7611j007uace9f8pfdg86jtgwi1o4tsfvjl863xk3nbx&ep=v1_gifs_search&rid=giphy.gif&ct=g)\n",
    "\n",
    "## So let's get started\n",
    "\n",
    "Python is a popular [high level programming language](https://www.geeksforgeeks.org/what-is-high-level-language/) created by Guido Van Rossum in 1991. It's used in diverse roles such as :\n",
    "- Web Development\n",
    "- Game Development, and also...\n",
    "- &#128171; **All data roles** &#128171; , name it... Data Science, Data Analysis, Data Engineering, Machine Learning, etc.\n",
    "\n",
    "## How it works?\n",
    "Python doesn’t convert its code into machine code. It converts it into byte code. So within Python, compilation happens, but it’s just not in a machine language. It is into byte code (.pyc or .pyo) and this byte code can’t be understood by the CPU. So we need an interpreter called the Python virtual machine to execute the byte codes. For more details you could check from these resources :\n",
    "- https://www.geeksforgeeks.org/internal-working-of-python/\n",
    "\n",
    "### Enough yapping, let's dive into the code shall we? &#128583;\n",
    "\n",
    "\n",
    "\n"
   ],
   "id": "ca829bee97d37fa2"
  },
  {
   "metadata": {},
   "cell_type": "markdown",
   "source": [
    "# 1) How to print a simple hello world? &#129300;\n",
    "\n",
    "Well... it's simple, just create a .py/.ipynb file than code"
   ],
   "id": "83de06bb9a604d01"
  },
  {
   "metadata": {
    "collapsed": true,
    "ExecuteTime": {
     "end_time": "2025-02-06T06:51:58.682713Z",
     "start_time": "2025-02-06T06:51:58.680368Z"
    }
   },
   "cell_type": "code",
   "source": [
    "print(\"hello world\")\n",
    "\n",
    "# see? ez pz"
   ],
   "id": "initial_id",
   "outputs": [
    {
     "name": "stdout",
     "output_type": "stream",
     "text": [
      "hello world\n"
     ]
    }
   ],
   "execution_count": 41
  },
  {
   "metadata": {},
   "cell_type": "markdown",
   "source": [
    "# 2) Declaring Variables\n",
    "\n",
    "Not like ~~Jawa~~ Java, Python has no command for declaring a variable"
   ],
   "id": "dc50aee0e084100f"
  },
  {
   "metadata": {
    "ExecuteTime": {
     "end_time": "2025-02-06T06:51:58.705001Z",
     "start_time": "2025-02-06T06:51:58.702472Z"
    }
   },
   "cell_type": "code",
   "source": [
    "x = 10\n",
    "y = \"wawan\"\n",
    "print(x)\n",
    "print(y)"
   ],
   "id": "9d6d215fdb4a0982",
   "outputs": [
    {
     "name": "stdout",
     "output_type": "stream",
     "text": [
      "10\n",
      "wawan\n"
     ]
    }
   ],
   "execution_count": 42
  },
  {
   "metadata": {},
   "cell_type": "markdown",
   "source": "Python can change type after they have been set",
   "id": "f926c4ddeb0b0cda"
  },
  {
   "metadata": {
    "ExecuteTime": {
     "end_time": "2025-02-06T06:51:58.758799Z",
     "start_time": "2025-02-06T06:51:58.755671Z"
    }
   },
   "cell_type": "code",
   "source": [
    "p = 999.8 # from float\n",
    "p = \"Mencetak info\" # to string\n",
    "print(type(p))"
   ],
   "id": "dee5a7f925bc3828",
   "outputs": [
    {
     "name": "stdout",
     "output_type": "stream",
     "text": [
      "<class 'str'>\n"
     ]
    }
   ],
   "execution_count": 43
  },
  {
   "metadata": {},
   "cell_type": "markdown",
   "source": [
    "# 3) Primitive Data Types\n",
    "\n",
    "Primitive data types are basic categories that it used for to save data's / information's into the computer program. It has 6 primitive data types :\n",
    "- `int` -> Data type for integers\n",
    "- `float` -> Data type for decimal or fractional numbers\n",
    "- `complex` -> Data type for complex numbers\n",
    "- `string` -> A data type for storing text or a sequence of characters\n",
    "- `boolean` -> A data type that has only two values (True or False)\n",
    "- `none`\n",
    "\n",
    "### Numbers"
   ],
   "id": "d66b26c9bde78d3"
  },
  {
   "metadata": {
    "ExecuteTime": {
     "end_time": "2025-02-06T06:51:58.808628Z",
     "start_time": "2025-02-06T06:51:58.806420Z"
    }
   },
   "cell_type": "code",
   "source": [
    "# Integer\n",
    "c = 8\n",
    "print(c)\n",
    "print(type(c))"
   ],
   "id": "fed7737f6a944f61",
   "outputs": [
    {
     "name": "stdout",
     "output_type": "stream",
     "text": [
      "8\n",
      "<class 'int'>\n"
     ]
    }
   ],
   "execution_count": 44
  },
  {
   "metadata": {
    "ExecuteTime": {
     "end_time": "2025-02-06T06:51:58.860019Z",
     "start_time": "2025-02-06T06:51:58.857130Z"
    }
   },
   "cell_type": "code",
   "source": [
    "# float\n",
    "v = 3.09\n",
    "print(v)\n",
    "print(type(v))"
   ],
   "id": "f409d62d4b2512c6",
   "outputs": [
    {
     "name": "stdout",
     "output_type": "stream",
     "text": [
      "3.09\n",
      "<class 'float'>\n"
     ]
    }
   ],
   "execution_count": 45
  },
  {
   "metadata": {
    "ExecuteTime": {
     "end_time": "2025-02-06T06:51:58.911471Z",
     "start_time": "2025-02-06T06:51:58.908583Z"
    }
   },
   "cell_type": "code",
   "source": [
    "# Complex\n",
    "# Complex numbers are written with a \"j\" as the imaginary part:\n",
    "q = 5+9J\n",
    "r = 3j\n",
    "s = -9j\n",
    "print(q)\n",
    "print(type(q), \"\\n\")\n",
    "print(r)\n",
    "print(type(r), \"\\n\")\n",
    "print(s)\n",
    "print(type(s))"
   ],
   "id": "beb0b151772f47d9",
   "outputs": [
    {
     "name": "stdout",
     "output_type": "stream",
     "text": [
      "(5+9j)\n",
      "<class 'complex'> \n",
      "\n",
      "3j\n",
      "<class 'complex'> \n",
      "\n",
      "(-0-9j)\n",
      "<class 'complex'>\n"
     ]
    }
   ],
   "execution_count": 46
  },
  {
   "metadata": {},
   "cell_type": "markdown",
   "source": "### Strings",
   "id": "3a1c5b5007aea49d"
  },
  {
   "metadata": {
    "ExecuteTime": {
     "end_time": "2025-02-06T06:51:58.963459Z",
     "start_time": "2025-02-06T06:51:58.959417Z"
    }
   },
   "cell_type": "code",
   "source": [
    "a = \"p mabar valo\"\n",
    "print(a)\n",
    "print(type(a), \"\\n\")\n",
    "\n",
    "# is the same thing as\n",
    "\n",
    "b = 'p mabar valo'\n",
    "print(b)\n",
    "print(type(b))"
   ],
   "id": "651cb4b8b93759a9",
   "outputs": [
    {
     "name": "stdout",
     "output_type": "stream",
     "text": [
      "p mabar valo\n",
      "<class 'str'> \n",
      "\n",
      "p mabar valo\n",
      "<class 'str'>\n"
     ]
    }
   ],
   "execution_count": 47
  },
  {
   "metadata": {
    "ExecuteTime": {
     "end_time": "2025-02-06T06:51:59.012942Z",
     "start_time": "2025-02-06T06:51:59.010102Z"
    }
   },
   "cell_type": "code",
   "source": [
    "var = 'My mom said \"you need to take a bath\"'\n",
    "print(var)\n",
    "print(type(var), \"\\n\")\n",
    "\n",
    "# is the same data type as\n",
    "\n",
    "var1 = \"My mom said 'you need to take a bath'\"\n",
    "print(var1)\n",
    "print(type(var1))"
   ],
   "id": "b75a0b73b758efd6",
   "outputs": [
    {
     "name": "stdout",
     "output_type": "stream",
     "text": [
      "My momma said \"you need to take a bath\"\n",
      "<class 'str'> \n",
      "\n",
      "My momma said 'you need to take a bath'\n",
      "<class 'str'>\n"
     ]
    }
   ],
   "execution_count": 48
  },
  {
   "metadata": {
    "ExecuteTime": {
     "end_time": "2025-02-06T06:51:59.064157Z",
     "start_time": "2025-02-06T06:51:59.060630Z"
    }
   },
   "cell_type": "code",
   "source": [
    "variable = \"this is line zero\\n this is line one\"\n",
    "print(variable)\n",
    "print(type(variable))"
   ],
   "id": "5a413ffd1e407b4d",
   "outputs": [
    {
     "name": "stdout",
     "output_type": "stream",
     "text": [
      "this is line zero\n",
      " this is line one\n",
      "<class 'str'>\n"
     ]
    }
   ],
   "execution_count": 49
  },
  {
   "metadata": {
    "ExecuteTime": {
     "end_time": "2025-02-06T06:51:59.114790Z",
     "start_time": "2025-02-06T06:51:59.112151Z"
    }
   },
   "cell_type": "code",
   "source": [
    "# Declare a multiline string using a single quote and double quote\n",
    "a = '''Welcome to python basics\n",
    "you can learn for data science\n",
    "or you can learn for webdev as well \\n'''\n",
    "\n",
    "b = \"\"\"Welcome to python basics\n",
    "you can learn for data science\n",
    "or you can learn for webdev as well\"\"\"\n",
    "\n",
    "print(a)\n",
    "print(b)\n"
   ],
   "id": "90603b54101f2615",
   "outputs": [
    {
     "name": "stdout",
     "output_type": "stream",
     "text": [
      "Welcome to python basics\n",
      "you can learn for data science\n",
      "or you can learn for webdev as well \n",
      "\n",
      "Welcome to python basics\n",
      "you can learn for data science\n",
      "or you can learn for webdev as well\n"
     ]
    }
   ],
   "execution_count": 50
  },
  {
   "metadata": {},
   "cell_type": "markdown",
   "source": "### Booleans",
   "id": "69476db61cce8873"
  },
  {
   "metadata": {
    "ExecuteTime": {
     "end_time": "2025-02-06T06:51:59.170807Z",
     "start_time": "2025-02-06T06:51:59.168546Z"
    }
   },
   "cell_type": "code",
   "source": [
    "x = 9\n",
    "print(bool(x))"
   ],
   "id": "15c0caccbdbc59c3",
   "outputs": [
    {
     "name": "stdout",
     "output_type": "stream",
     "text": [
      "True\n"
     ]
    }
   ],
   "execution_count": 51
  },
  {
   "metadata": {
    "ExecuteTime": {
     "end_time": "2025-02-06T06:51:59.218354Z",
     "start_time": "2025-02-06T06:51:59.215694Z"
    }
   },
   "cell_type": "code",
   "source": [
    "z = False\n",
    "print(z)\n",
    "print(type(z))\n",
    "print(bool(z))"
   ],
   "id": "7d632adcb3b8c81d",
   "outputs": [
    {
     "name": "stdout",
     "output_type": "stream",
     "text": [
      "False\n",
      "<class 'bool'>\n",
      "False\n"
     ]
    }
   ],
   "execution_count": 52
  },
  {
   "metadata": {},
   "cell_type": "markdown",
   "source": "### Casting Data Types",
   "id": "846315f892822062"
  },
  {
   "metadata": {
    "ExecuteTime": {
     "end_time": "2025-02-06T06:51:59.269663Z",
     "start_time": "2025-02-06T06:51:59.266689Z"
    }
   },
   "cell_type": "code",
   "source": [
    "# cast from str to int\n",
    "str_numbers = \"456\"\n",
    "str_numbers_to_int = int(str_numbers)\n",
    "print(\"Before casting :\", str_numbers, \", the data type is\", type(str_numbers))\n",
    "print(\"After casting :\", str_numbers_to_int, \", the data type is\", type(str_numbers_to_int))"
   ],
   "id": "aaa27ba33ce7f3f8",
   "outputs": [
    {
     "name": "stdout",
     "output_type": "stream",
     "text": [
      "Before casting : 456 , the data type is <class 'str'>\n",
      "After casting : 456 , the data type is <class 'int'>\n"
     ]
    }
   ],
   "execution_count": 53
  },
  {
   "metadata": {
    "ExecuteTime": {
     "end_time": "2025-02-06T06:51:59.323506Z",
     "start_time": "2025-02-06T06:51:59.320302Z"
    }
   },
   "cell_type": "code",
   "source": [
    "# casting from int to str\n",
    "integer = 12345\n",
    "integer_to_str = str(integer)\n",
    "print(\"Before casting :\", integer, \", the data type is\", type(integer))\n",
    "print(\"After casting :\", integer_to_str, \", the data type is\", type(integer_to_str))"
   ],
   "id": "4e7a3248976e2ca4",
   "outputs": [
    {
     "name": "stdout",
     "output_type": "stream",
     "text": [
      "Before casting : 12345 , the data type is <class 'int'>\n",
      "After casting : 12345 , the data type is <class 'str'>\n"
     ]
    }
   ],
   "execution_count": 54
  },
  {
   "metadata": {
    "ExecuteTime": {
     "end_time": "2025-02-06T06:51:59.374293Z",
     "start_time": "2025-02-06T06:51:59.371434Z"
    }
   },
   "cell_type": "code",
   "source": [
    "# casting from int to bool\n",
    "num_int = 1\n",
    "num_bool = bool(num_int)\n",
    "print(num_bool, type(num_bool))\n",
    "\n",
    "num_int = 0\n",
    "num_bool = bool(num_int)\n",
    "print(num_bool, type(num_bool))"
   ],
   "id": "c0180e1575a92b74",
   "outputs": [
    {
     "name": "stdout",
     "output_type": "stream",
     "text": [
      "True <class 'bool'>\n",
      "False <class 'bool'>\n"
     ]
    }
   ],
   "execution_count": 55
  },
  {
   "metadata": {},
   "cell_type": "markdown",
   "source": [
    "# 4) Operators\n",
    "\n",
    "### Comparison Operator\n",
    "\n",
    "![](https://d1e4pidl3fu268.cloudfront.net/48295477-61ac-4b5e-a6dc-456acd3ab0a6/comparisonoperators.png)"
   ],
   "id": "9e11dc485752f7d2"
  },
  {
   "metadata": {
    "ExecuteTime": {
     "end_time": "2025-02-06T06:51:59.425195Z",
     "start_time": "2025-02-06T06:51:59.421033Z"
    }
   },
   "cell_type": "code",
   "source": [
    "# Equal to\n",
    "8 == 8"
   ],
   "id": "1fe9ac439da20308",
   "outputs": [
    {
     "data": {
      "text/plain": [
       "True"
      ]
     },
     "execution_count": 56,
     "metadata": {},
     "output_type": "execute_result"
    }
   ],
   "execution_count": 56
  },
  {
   "metadata": {
    "ExecuteTime": {
     "end_time": "2025-02-06T06:51:59.480380Z",
     "start_time": "2025-02-06T06:51:59.477163Z"
    }
   },
   "cell_type": "code",
   "source": [
    "# Not equal to\n",
    "8 != 9"
   ],
   "id": "6816e2a0f0080a3b",
   "outputs": [
    {
     "data": {
      "text/plain": [
       "True"
      ]
     },
     "execution_count": 57,
     "metadata": {},
     "output_type": "execute_result"
    }
   ],
   "execution_count": 57
  },
  {
   "metadata": {
    "ExecuteTime": {
     "end_time": "2025-02-06T06:51:59.532298Z",
     "start_time": "2025-02-06T06:51:59.528160Z"
    }
   },
   "cell_type": "code",
   "source": [
    "# Greater than\n",
    "8 > 9"
   ],
   "id": "5e12b12890cc88ba",
   "outputs": [
    {
     "data": {
      "text/plain": [
       "False"
      ]
     },
     "execution_count": 58,
     "metadata": {},
     "output_type": "execute_result"
    }
   ],
   "execution_count": 58
  },
  {
   "metadata": {
    "ExecuteTime": {
     "end_time": "2025-02-06T06:51:59.582731Z",
     "start_time": "2025-02-06T06:51:59.579084Z"
    }
   },
   "cell_type": "code",
   "source": [
    "# Less than\n",
    "8 < 9"
   ],
   "id": "c8856b1a29b212a5",
   "outputs": [
    {
     "data": {
      "text/plain": [
       "True"
      ]
     },
     "execution_count": 59,
     "metadata": {},
     "output_type": "execute_result"
    }
   ],
   "execution_count": 59
  },
  {
   "metadata": {
    "ExecuteTime": {
     "end_time": "2025-02-06T06:51:59.635586Z",
     "start_time": "2025-02-06T06:51:59.631766Z"
    }
   },
   "cell_type": "code",
   "source": [
    "# Less than\n",
    "8 <= 9"
   ],
   "id": "8266846ea9507428",
   "outputs": [
    {
     "data": {
      "text/plain": [
       "True"
      ]
     },
     "execution_count": 60,
     "metadata": {},
     "output_type": "execute_result"
    }
   ],
   "execution_count": 60
  },
  {
   "metadata": {
    "ExecuteTime": {
     "end_time": "2025-02-06T06:51:59.686379Z",
     "start_time": "2025-02-06T06:51:59.683279Z"
    }
   },
   "cell_type": "code",
   "source": [
    "# Less than\n",
    "9 >= 9"
   ],
   "id": "25e49e5592a4bc10",
   "outputs": [
    {
     "data": {
      "text/plain": [
       "True"
      ]
     },
     "execution_count": 61,
     "metadata": {},
     "output_type": "execute_result"
    }
   ],
   "execution_count": 61
  },
  {
   "metadata": {},
   "cell_type": "markdown",
   "source": [
    "### Logical Operator\n",
    "\n",
    "![](https://miro.medium.com/v2/resize:fit:602/1*SDDa0gcAESWXdiiy3xs3PQ.png)"
   ],
   "id": "c72819f9f8d5b954"
  },
  {
   "metadata": {
    "ExecuteTime": {
     "end_time": "2025-02-06T06:51:59.739506Z",
     "start_time": "2025-02-06T06:51:59.736066Z"
    }
   },
   "cell_type": "code",
   "source": [
    "a = True\n",
    "b = True\n",
    "print(a and b)\n",
    "print(a or b)\n",
    "print(not b)"
   ],
   "id": "8fc44df87a7d53a9",
   "outputs": [
    {
     "name": "stdout",
     "output_type": "stream",
     "text": [
      "True\n",
      "True\n",
      "False\n"
     ]
    }
   ],
   "execution_count": 62
  },
  {
   "metadata": {
    "ExecuteTime": {
     "end_time": "2025-02-06T06:51:59.792359Z",
     "start_time": "2025-02-06T06:51:59.788508Z"
    }
   },
   "cell_type": "code",
   "source": "5 > 6 and 6 < 7",
   "id": "9463111263cf3830",
   "outputs": [
    {
     "data": {
      "text/plain": [
       "False"
      ]
     },
     "execution_count": 63,
     "metadata": {},
     "output_type": "execute_result"
    }
   ],
   "execution_count": 63
  },
  {
   "metadata": {},
   "cell_type": "markdown",
   "source": "The logic above can be called with Compound Truth",
   "id": "11ff9a4231fe7008"
  },
  {
   "metadata": {},
   "cell_type": "markdown",
   "source": [
    "### Aritmetic Operator\n",
    "\n",
    "![](https://d1e4pidl3fu268.cloudfront.net/f20083ef-a2fb-4673-ac88-13d58ba68133/Arithmeticoperators.png)"
   ],
   "id": "856c3f863dd5e7f1"
  },
  {
   "metadata": {
    "ExecuteTime": {
     "end_time": "2025-02-06T06:51:59.845894Z",
     "start_time": "2025-02-06T06:51:59.841750Z"
    }
   },
   "cell_type": "code",
   "source": [
    "e = 8\n",
    "f = 2\n",
    "\n",
    "# Summation\n",
    "sum = e + f\n",
    "print(f\"The sum of e with f is : {sum}\\n\")\n",
    "\n",
    "# Reduction\n",
    "red = e - f\n",
    "print(f\"The reduction of e with f is : {red}\\n\")\n",
    "\n",
    "# Multiplication\n",
    "multi = e * f\n",
    "print(f\"The multipication of e with f is : {multi}\\n\")\n",
    "\n",
    "# Division\n",
    "divi = e / f\n",
    "print(f\"The quotient of e with f is : {divi}\\n\")\n",
    "\n",
    "# Modulo\n",
    "mod = e % f\n",
    "print(f\"The remainder of e with f is : {mod}\\n\")\n",
    "\n",
    "# Power\n",
    "pow = e ** f\n",
    "print(f\"The power of e of f is : {pow}\\n\")"
   ],
   "id": "b95ad36531068ec4",
   "outputs": [
    {
     "name": "stdout",
     "output_type": "stream",
     "text": [
      "The sum of e with f is : 10\n",
      "\n",
      "The reduction of e with f is : 6\n",
      "\n",
      "The multipication of e with f is : 16\n",
      "\n",
      "The quotient of e with f is : 4.0\n",
      "\n",
      "The remainder of e with f is : 0\n",
      "\n",
      "The power of e of f is : 64\n",
      "\n"
     ]
    }
   ],
   "execution_count": 64
  },
  {
   "metadata": {},
   "cell_type": "markdown",
   "source": "<img src=\"https://i.ytimg.com/vi/i2i8YkFyLVs/maxresdefault.jpg\" alt=\"precedence_img\" width=\"500\">",
   "id": "e566183009827bf0"
  },
  {
   "metadata": {
    "ExecuteTime": {
     "end_time": "2025-02-06T06:51:59.898738Z",
     "start_time": "2025-02-06T06:51:59.895075Z"
    }
   },
   "cell_type": "code",
   "source": [
    "result = 2 + 3 * (4 ** 2) / 8 - 5\n",
    "result"
   ],
   "id": "943d23aef4c3626e",
   "outputs": [
    {
     "data": {
      "text/plain": [
       "3.0"
      ]
     },
     "execution_count": 65,
     "metadata": {},
     "output_type": "execute_result"
    }
   ],
   "execution_count": 65
  },
  {
   "metadata": {
    "ExecuteTime": {
     "end_time": "2025-02-06T06:51:59.948053Z",
     "start_time": "2025-02-06T06:51:59.945539Z"
    }
   },
   "cell_type": "code",
   "source": [
    "# Try to answer before you run it\n",
    "guess = 60 - 4 * 3 / (2 ** 2) * 2 + 1"
   ],
   "id": "1c275788950a71c4",
   "outputs": [],
   "execution_count": 66
  },
  {
   "metadata": {
    "ExecuteTime": {
     "end_time": "2025-02-06T06:51:59.995073Z",
     "start_time": "2025-02-06T06:51:59.992420Z"
    }
   },
   "cell_type": "code",
   "source": "# answer right here",
   "id": "ec5eccf7a60df3c6",
   "outputs": [],
   "execution_count": 67
  },
  {
   "metadata": {},
   "cell_type": "markdown",
   "source": "## Input Output",
   "id": "2d9ad09d65c3df2d"
  },
  {
   "metadata": {},
   "cell_type": "markdown",
   "source": "### Input",
   "id": "26d34f5b97f195be"
  },
  {
   "metadata": {
    "ExecuteTime": {
     "end_time": "2025-02-07T04:10:20.993992Z",
     "start_time": "2025-02-07T04:10:11.598669Z"
    }
   },
   "cell_type": "code",
   "source": [
    "name = str(input(\"What is your name : \"))\n",
    "age = int(input(\"What's your age : \"))\n",
    "\n",
    "print(\"Name: \", name)\n",
    "print(\"Age: \", age)\n"
   ],
   "id": "3dd9b37aa44eff15",
   "outputs": [
    {
     "name": "stdout",
     "output_type": "stream",
     "text": [
      "Name:  Parman\n",
      "Age:  24\n"
     ]
    }
   ],
   "execution_count": 3
  },
  {
   "metadata": {},
   "cell_type": "markdown",
   "source": "### Output",
   "id": "7fda999a0f8632d2"
  },
  {
   "metadata": {
    "ExecuteTime": {
     "end_time": "2025-02-07T04:10:24.900686Z",
     "start_time": "2025-02-07T04:10:24.897930Z"
    }
   },
   "cell_type": "code",
   "source": [
    "# normal print\n",
    "print('Hi all! I am', name, 'age', age, 'years old')"
   ],
   "id": "95c7b282b941ef60",
   "outputs": [
    {
     "name": "stdout",
     "output_type": "stream",
     "text": [
      "Hi all! I am Parman age 24 years old\n"
     ]
    }
   ],
   "execution_count": 6
  },
  {
   "metadata": {
    "ExecuteTime": {
     "end_time": "2025-02-07T04:10:23.641408Z",
     "start_time": "2025-02-07T04:10:23.638816Z"
    }
   },
   "cell_type": "code",
   "source": [
    "# format print\n",
    "print(f'Hi all! I am {name} age {age} years old')"
   ],
   "id": "d11d938d0263bc39",
   "outputs": [
    {
     "name": "stdout",
     "output_type": "stream",
     "text": [
      "Hi all! I am Parman age 24 years old\n"
     ]
    }
   ],
   "execution_count": 5
  },
  {
   "metadata": {
    "ExecuteTime": {
     "end_time": "2025-02-07T04:10:22.400020Z",
     "start_time": "2025-02-07T04:10:22.396933Z"
    }
   },
   "cell_type": "code",
   "source": [
    "# format print\n",
    "print(f'Hi all! I am %s age %d years old'%(name, age))"
   ],
   "id": "70ccc5ee559e5cfc",
   "outputs": [
    {
     "name": "stdout",
     "output_type": "stream",
     "text": [
      "Hi all! I am Parman age 24 years old\n"
     ]
    }
   ],
   "execution_count": 4
  },
  {
   "metadata": {
    "ExecuteTime": {
     "end_time": "2025-02-06T06:52:10.795055Z",
     "start_time": "2025-02-06T06:52:10.792681Z"
    }
   },
   "cell_type": "code",
   "source": [
    "print(30*\"=\")\n",
    "print(\"Temperature Calculator Program\")\n",
    "print(30*\"=\")"
   ],
   "id": "fa14629fae33ecca",
   "outputs": [
    {
     "name": "stdout",
     "output_type": "stream",
     "text": [
      "==============================\n",
      "Temperature Calculator Program\n",
      "==============================\n"
     ]
    }
   ],
   "execution_count": 72
  },
  {
   "metadata": {},
   "cell_type": "markdown",
   "source": "# 5) Conditionals and Exception Handling",
   "id": "12670d67d401e5dc"
  },
  {
   "metadata": {},
   "cell_type": "markdown",
   "source": "### Using If-Else",
   "id": "dcc9d2b0b786fdf0"
  },
  {
   "metadata": {
    "ExecuteTime": {
     "end_time": "2025-02-06T06:52:15.180384Z",
     "start_time": "2025-02-06T06:52:10.841423Z"
    }
   },
   "cell_type": "code",
   "source": [
    "try:\n",
    "    your_GPA = float(input(\"Enter your GPA: \"))\n",
    "    if 4.0 >= your_GPA >= 0.0:\n",
    "        if 4.0 >= your_GPA >= 3.80:\n",
    "            print(f\"Damn you've got a magna cumlaude with your {your_GPA} GPA\")\n",
    "        elif 3.50 <= your_GPA < 3.80:\n",
    "            print(f\"Cool!! You've got a cumlaude with your {your_GPA} GPA\")\n",
    "        elif 3.00 <= your_GPA < 3.50:\n",
    "            print(f\"You've got a stable GPA tho\")\n",
    "        elif your_GPA < 3.0:\n",
    "            print(f\"You need a stable GPA\")\n",
    "    else:\n",
    "        print(f\"Sorry, your GPA {your_GPA} is out of range and invalid\")\n",
    "except:\n",
    "    print(\"Please enter a valid GPA\")"
   ],
   "id": "bf672c37320a2b4f",
   "outputs": [
    {
     "name": "stdout",
     "output_type": "stream",
     "text": [
      "Cool!! You've got a cumlaude with your 3.7 GPA\n"
     ]
    }
   ],
   "execution_count": 73
  },
  {
   "metadata": {},
   "cell_type": "markdown",
   "source": "### Using match case",
   "id": "bf4e8e5bef4deec7"
  },
  {
   "metadata": {
    "ExecuteTime": {
     "end_time": "2025-02-06T06:52:18.452206Z",
     "start_time": "2025-02-06T06:52:15.201040Z"
    }
   },
   "cell_type": "code",
   "source": [
    "try:\n",
    "    status_code = int(input(\"Enter your status code: \"))\n",
    "    print(\"Your code means\")\n",
    "    match status_code:\n",
    "        case 200:\n",
    "            print(\"Success!\")\n",
    "        case 400:\n",
    "            print(\"Bad Request\")\n",
    "        case 401:\n",
    "            print(\"Unauthorized\")\n",
    "        case 402:\n",
    "            print(\"Payment Required\")\n",
    "        case 403:\n",
    "            print(\"Forbidden\")\n",
    "        case 404:\n",
    "            print(\"Not Found\")\n",
    "        case 500:\n",
    "            print(\"Internal Server Error\")\n",
    "except :\n",
    "    print(\"Please enter a valid status code\")"
   ],
   "id": "543c1bb6a0cb7d8b",
   "outputs": [
    {
     "name": "stdout",
     "output_type": "stream",
     "text": [
      "Your code means\n",
      "Success!\n"
     ]
    }
   ],
   "execution_count": 74
  },
  {
   "metadata": {},
   "cell_type": "markdown",
   "source": "### Ternary",
   "id": "c002d2b9d06ca284"
  },
  {
   "metadata": {
    "ExecuteTime": {
     "end_time": "2025-02-06T06:52:18.510376Z",
     "start_time": "2025-02-06T06:52:18.507970Z"
    }
   },
   "cell_type": "code",
   "source": [
    "a = 3\n",
    "b = \"Even Numbers\" if a % 2 == 0 else \"Odd Numbers\"\n",
    "print(b)"
   ],
   "id": "f28e1764db2e3297",
   "outputs": [
    {
     "name": "stdout",
     "output_type": "stream",
     "text": [
      "Odd Numbers\n"
     ]
    }
   ],
   "execution_count": 75
  },
  {
   "metadata": {},
   "cell_type": "markdown",
   "source": "# 6) Loops",
   "id": "78c111f6b7707c6"
  },
  {
   "metadata": {},
   "cell_type": "markdown",
   "source": "### Using for loops",
   "id": "20fa368785c90a7b"
  },
  {
   "metadata": {
    "ExecuteTime": {
     "end_time": "2025-02-06T06:52:18.617327Z",
     "start_time": "2025-02-06T06:52:18.614819Z"
    }
   },
   "cell_type": "code",
   "source": [
    "for i in range(5):\n",
    "    print(i)"
   ],
   "id": "854051b4c1e53729",
   "outputs": [
    {
     "name": "stdout",
     "output_type": "stream",
     "text": [
      "0\n",
      "1\n",
      "2\n",
      "3\n",
      "4\n"
     ]
    }
   ],
   "execution_count": 76
  },
  {
   "metadata": {
    "ExecuteTime": {
     "end_time": "2025-02-06T06:53:51.418064Z",
     "start_time": "2025-02-06T06:53:51.415429Z"
    }
   },
   "cell_type": "code",
   "source": [
    "# For loop with range\n",
    "for i in range(5):\n",
    "    print(\"Data science is easy!\")\n",
    "\n",
    "print(50*\"=\")\n",
    "\n",
    "for i in range(1, 5, 2):\n",
    "    print(\"Data science is easy!\")"
   ],
   "id": "19d8c06826e9a6c6",
   "outputs": [
    {
     "name": "stdout",
     "output_type": "stream",
     "text": [
      "Data science is easy!\n",
      "Data science is easy!\n",
      "Data science is easy!\n",
      "Data science is easy!\n",
      "Data science is easy!\n",
      "==================================================\n",
      "Data science is easy!\n",
      "Data science is easy!\n"
     ]
    }
   ],
   "execution_count": 77
  },
  {
   "metadata": {
    "ExecuteTime": {
     "end_time": "2025-02-06T06:54:38.667560Z",
     "start_time": "2025-02-06T06:54:38.665038Z"
    }
   },
   "cell_type": "code",
   "source": [
    "word = \"I want to master data science\"\n",
    "for letter in word:\n",
    "    print(letter)"
   ],
   "id": "23f552d01a786990",
   "outputs": [
    {
     "name": "stdout",
     "output_type": "stream",
     "text": [
      "I\n",
      " \n",
      "w\n",
      "a\n",
      "n\n",
      "t\n",
      " \n",
      "t\n",
      "o\n",
      " \n",
      "m\n",
      "a\n",
      "s\n",
      "t\n",
      "e\n",
      "r\n",
      " \n",
      "d\n",
      "a\n",
      "t\n",
      "a\n",
      " \n",
      "s\n",
      "c\n",
      "i\n",
      "e\n",
      "n\n",
      "c\n",
      "e\n"
     ]
    }
   ],
   "execution_count": 78
  },
  {
   "metadata": {
    "ExecuteTime": {
     "end_time": "2025-02-06T09:02:25.036185Z",
     "start_time": "2025-02-06T09:02:25.033165Z"
    }
   },
   "cell_type": "code",
   "source": [
    "# You can use it with enumerate function\n",
    "for m, n in enumerate(word):\n",
    "    print(f\"Index {m}. {n}\")"
   ],
   "id": "c595c6203d646b33",
   "outputs": [
    {
     "name": "stdout",
     "output_type": "stream",
     "text": [
      "index 0. I\n",
      "index 1.  \n",
      "index 2. w\n",
      "index 3. a\n",
      "index 4. n\n",
      "index 5. t\n",
      "index 6.  \n",
      "index 7. t\n",
      "index 8. o\n",
      "index 9.  \n",
      "index 10. m\n",
      "index 11. a\n",
      "index 12. s\n",
      "index 13. t\n",
      "index 14. e\n",
      "index 15. r\n",
      "index 16.  \n",
      "index 17. d\n",
      "index 18. a\n",
      "index 19. t\n",
      "index 20. a\n",
      "index 21.  \n",
      "index 22. s\n",
      "index 23. c\n",
      "index 24. i\n",
      "index 25. e\n",
      "index 26. n\n",
      "index 27. c\n",
      "index 28. e\n"
     ]
    }
   ],
   "execution_count": 110
  },
  {
   "metadata": {
    "ExecuteTime": {
     "end_time": "2025-02-07T04:02:42.703029Z",
     "start_time": "2025-02-07T04:02:42.700272Z"
    }
   },
   "cell_type": "code",
   "source": [
    "# It can go backwards\n",
    "for i in range(5,1,-1):\n",
    "    print(\"I want big data's\")"
   ],
   "id": "f37ad17075af8d57",
   "outputs": [
    {
     "name": "stdout",
     "output_type": "stream",
     "text": [
      "I want big data's\n",
      "I want big data's\n",
      "I want big data's\n",
      "I want big data's\n"
     ]
    }
   ],
   "execution_count": 1
  },
  {
   "metadata": {},
   "cell_type": "markdown",
   "source": "#### Keyword control",
   "id": "fd74c40b2a5e8db9"
  },
  {
   "metadata": {
    "ExecuteTime": {
     "end_time": "2025-02-06T07:05:54.043883Z",
     "start_time": "2025-02-06T07:05:54.040259Z"
    }
   },
   "cell_type": "code",
   "source": [
    "for i in range(5):\n",
    "    if i == 2:\n",
    "        continue  # skip theis loop when i is equal to 2\n",
    "    if i == 4:\n",
    "        break  # stops the loop when i is equal to 4\n",
    "    print(i)"
   ],
   "id": "79046cc8cd46cc90",
   "outputs": [
    {
     "name": "stdout",
     "output_type": "stream",
     "text": [
      "0\n",
      "1\n",
      "3\n"
     ]
    }
   ],
   "execution_count": 80
  },
  {
   "metadata": {},
   "cell_type": "markdown",
   "source": "### Using while loop",
   "id": "11a5aad8897c7c08"
  },
  {
   "metadata": {
    "ExecuteTime": {
     "end_time": "2025-02-06T06:51:55.562572Z",
     "start_time": "2025-02-06T06:51:55.560166Z"
    }
   },
   "cell_type": "code",
   "source": [
    "count = 0\n",
    "while count < 4:\n",
    "    print(\"Keep the spirits up interns!\")\n",
    "    count += 1"
   ],
   "id": "c02437f519489dff",
   "outputs": [
    {
     "name": "stdout",
     "output_type": "stream",
     "text": [
      "Keep the spirits up interns!\n",
      "Keep the spirits up interns!\n",
      "Keep the spirits up interns!\n",
      "Keep the spirits up interns!\n"
     ]
    }
   ],
   "execution_count": 40
  },
  {
   "metadata": {},
   "cell_type": "markdown",
   "source": "# 7) Python Data Structures / Composite Data Types / Collection",
   "id": "9d4003da03a8f8b6"
  },
  {
   "metadata": {},
   "cell_type": "markdown",
   "source": "### List",
   "id": "9d6a4f0b6334d6dc"
  },
  {
   "metadata": {},
   "cell_type": "markdown",
   "source": [
    "In java we know as arrays, but in python python the data structure prefixed by [] is a list\n",
    "\n",
    "List is a type of ordered sequence, and is one of the most commonly used variables in Python. It is similar to arrays in other programming languages. The difference is that List elements in Python don't have to have the same data type. Declaring a List is easy with square brackets and comma-separated elements.\n",
    "\n"
   ],
   "id": "182ca0ce46b83d2d"
  },
  {
   "metadata": {},
   "cell_type": "markdown",
   "source": "The sequence here means that every data that we want to access must start from index 0 first.",
   "id": "a1cce7c1503ff189"
  },
  {
   "metadata": {
    "ExecuteTime": {
     "end_time": "2025-02-06T07:33:27.294937Z",
     "start_time": "2025-02-06T07:33:27.292742Z"
    }
   },
   "cell_type": "code",
   "source": [
    "# Lists can be created with a variety of variables, without the need to declare them specifically\n",
    "name_list = ['Yasheen', 'Agus', 'Bu Ketua', 'Pieter']\n",
    "int_list = [1, 2, 3, 4]\n",
    "float_list = [1.0, 0.5, 1.5]"
   ],
   "id": "6e1ec81076cf90b7",
   "outputs": [],
   "execution_count": 81
  },
  {
   "metadata": {
    "ExecuteTime": {
     "end_time": "2025-02-06T07:38:29.527901Z",
     "start_time": "2025-02-06T07:38:29.523015Z"
    }
   },
   "cell_type": "code",
   "source": [
    "a = [1, 2.2, 'python',100, \"Bambang\"]\n",
    "a"
   ],
   "id": "9b7ff893a39a3d81",
   "outputs": [
    {
     "data": {
      "text/plain": [
       "[1, 2.2, 'python', 100, 'Bambang']"
      ]
     },
     "execution_count": 82,
     "metadata": {},
     "output_type": "execute_result"
    }
   ],
   "execution_count": 82
  },
  {
   "metadata": {
    "ExecuteTime": {
     "end_time": "2025-02-06T07:38:35.984013Z",
     "start_time": "2025-02-06T07:38:35.981145Z"
    }
   },
   "cell_type": "code",
   "source": "name_list[3]",
   "id": "bfaa66eb7f62002c",
   "outputs": [
    {
     "data": {
      "text/plain": [
       "'Pieter'"
      ]
     },
     "execution_count": 83,
     "metadata": {},
     "output_type": "execute_result"
    }
   ],
   "execution_count": 83
  },
  {
   "metadata": {
    "ExecuteTime": {
     "end_time": "2025-02-06T07:46:40.712437Z",
     "start_time": "2025-02-06T07:46:40.709306Z"
    }
   },
   "cell_type": "code",
   "source": [
    "for per_item in float_list:\n",
    "    print(per_item)"
   ],
   "id": "efac8e80ca87aa9e",
   "outputs": [
    {
     "name": "stdout",
     "output_type": "stream",
     "text": [
      "1.0\n",
      "0.5\n",
      "1.5\n"
     ]
    }
   ],
   "execution_count": 91
  },
  {
   "metadata": {},
   "cell_type": "markdown",
   "source": [
    "#### Slicing\n",
    "\n",
    "In python we recognize the term **Slicing** which allows us to access a subset of elements in a list, tuple, or string. With slicing, we can retrieve a subset of those elements in a very efficient way.\n",
    "\n",
    "**How to slice** &#128298;\n",
    "\n",
    "`list[$x$ : $y$ : $z$ ]`\n",
    "*   `x` = Start of the slice\n",
    "*   `y` = The end of the slice is the previous item\n",
    "*   `z` = Step"
   ],
   "id": "243b11e6d8d3dc46"
  },
  {
   "metadata": {
    "ExecuteTime": {
     "end_time": "2025-02-06T07:57:28.960368Z",
     "start_time": "2025-02-06T07:57:28.957229Z"
    }
   },
   "cell_type": "code",
   "source": [
    "x = [2, 8, 15, 25, 29, 30 , 35, 40, 59, 65, 78]\n",
    "print(f\"The length of this list is: {len(x)}\")\n",
    "print(x[8])\n",
    "print(x[-2])\n",
    "print(x[3:5])\n",
    "print(x[7:])\n",
    "print(x[:3])\n",
    "print(x[-3:])\n",
    "print(x[:-2])\n",
    "print(x[0:8:2])"
   ],
   "id": "776c3bad3b34ae36",
   "outputs": [
    {
     "name": "stdout",
     "output_type": "stream",
     "text": [
      "The length of this list is: 11\n",
      "59\n",
      "65\n",
      "[25, 29]\n",
      "[40, 59, 65, 78]\n",
      "[2, 8, 15]\n",
      "[59, 65, 78]\n",
      "[2, 8, 15, 25, 29, 30, 35, 40, 59]\n",
      "[2, 15, 29, 35]\n"
     ]
    }
   ],
   "execution_count": 95
  },
  {
   "metadata": {},
   "cell_type": "markdown",
   "source": "#### Manipulating data in a list\n",
   "id": "cd9c8154a39a7fcf"
  },
  {
   "metadata": {
    "ExecuteTime": {
     "end_time": "2025-02-06T08:03:02.474049Z",
     "start_time": "2025-02-06T08:03:02.471141Z"
    }
   },
   "cell_type": "code",
   "source": [
    "q = [1, 2, 3, 4]\n",
    "print(q)\n",
    "# adding data to the list\n",
    "q.append(5)\n",
    "print(q)\n",
    "# deleting data from the list\n",
    "del q[0] # list order starting from index 0\n",
    "print(q)\n",
    "# replacing values of the list\n",
    "q[1] = 0\n",
    "print(q)"
   ],
   "id": "ed5bebc10c2a3736",
   "outputs": [
    {
     "name": "stdout",
     "output_type": "stream",
     "text": [
      "[1, 2, 3, 4]\n",
      "[1, 2, 3, 4, 5]\n",
      "[2, 3, 4, 5]\n",
      "[2, 0, 4, 5]\n"
     ]
    }
   ],
   "execution_count": 98
  },
  {
   "metadata": {},
   "cell_type": "markdown",
   "source": [
    "### Dictionary\n",
    "\n",
    "A dictionary in Python is an unordered collection of key-value pairs. Dictionaries can be used to store small to large amounts of data. To access the data, we need to know the key. In Python, dictionaries are defined with curly braces and the following additional definitions:\n",
    "\n",
    "1.  Each key-value pair element is separated by a comma (,).\n",
    "2.  Key and Value are separated by a colon (:).\n",
    "3.  Key and Value can be any type of variable/object."
   ],
   "id": "46a9270ba19fed5b"
  },
  {
   "metadata": {},
   "cell_type": "markdown",
   "source": "d = { $key$ : $value$ }",
   "id": "f3872a4bcecca76b"
  },
  {
   "metadata": {},
   "cell_type": "markdown",
   "source": "Unlike lists, dictionaries are not part of the sequences implementation, so they cannot be called in index order. For example, in the following example, it was tried with index 2, but it returned an error (KeyError) because there is no key 2:",
   "id": "ef43f299169686de"
  },
  {
   "metadata": {
    "ExecuteTime": {
     "end_time": "2025-02-06T08:06:09.436609Z",
     "start_time": "2025-02-06T08:06:09.432528Z"
    }
   },
   "cell_type": "code",
   "source": [
    "d = {\n",
    "    'key1': 'value1',\n",
    "    'key2': 'value2',\n",
    "    'key3': 'value3'\n",
    "}\n",
    "\n",
    "d"
   ],
   "id": "b7e7945b246d66cf",
   "outputs": [
    {
     "data": {
      "text/plain": [
       "{'key1': 'value1', 'key2': 'value2', 'key3': 'value3'}"
      ]
     },
     "execution_count": 99,
     "metadata": {},
     "output_type": "execute_result"
    }
   ],
   "execution_count": 99
  },
  {
   "metadata": {
    "ExecuteTime": {
     "end_time": "2025-02-06T08:24:13.923475Z",
     "start_time": "2025-02-06T08:24:13.920846Z"
    }
   },
   "cell_type": "code",
   "source": [
    "d = {\n",
    "    'Father':'Adi',\n",
    "    'Mom':'Wati'\n",
    "}\n",
    "print(type(d))\n",
    "print(\"d['Father'] = \", d['Father'])\n",
    "print(\"d['Mom'] = \", d['Mom'])\n",
    "\n",
    "# print(\"d['Wati'] = \", d['Mom'])     # error"
   ],
   "id": "c62ae620a938b326",
   "outputs": [
    {
     "name": "stdout",
     "output_type": "stream",
     "text": [
      "<class 'dict'>\n",
      "d['Bapak'] =  Budi\n",
      "d['Ibu'] =  Sukarni\n"
     ]
    }
   ],
   "execution_count": 101
  },
  {
   "metadata": {
    "ExecuteTime": {
     "end_time": "2025-02-06T08:25:42.246605Z",
     "start_time": "2025-02-06T08:25:42.242541Z"
    }
   },
   "cell_type": "code",
   "source": [
    "ds = {\n",
    "    'A' : 9+2j,\n",
    "    2 : 10.5,\n",
    "}\n",
    "\n",
    "ds"
   ],
   "id": "6b4f38c5b1c426d6",
   "outputs": [
    {
     "data": {
      "text/plain": [
       "{'A': (9+2j), 2: 10.5}"
      ]
     },
     "execution_count": 102,
     "metadata": {},
     "output_type": "execute_result"
    }
   ],
   "execution_count": 102
  },
  {
   "metadata": {
    "ExecuteTime": {
     "end_time": "2025-02-06T08:52:43.810098Z",
     "start_time": "2025-02-06T08:52:43.807196Z"
    }
   },
   "cell_type": "code",
   "source": [
    "# Another advanced example\n",
    "# we can combine lists with dictionaries\n",
    "e = {\n",
    "    'customerID' : [2312, 2342, 3341, 1235, 9382],\n",
    "    'customer_name' : ['John', 'Saputra', 'Wattson', 'Sommerville', 'Gremmy'],\n",
    "    'birthplace' : ['JKT', 'SBY', 'SMG', 'BDG', 'BGR']\n",
    "}"
   ],
   "id": "a2091b25508b0bd0",
   "outputs": [],
   "execution_count": 107
  },
  {
   "metadata": {
    "ExecuteTime": {
     "end_time": "2025-02-06T08:52:45.002845Z",
     "start_time": "2025-02-06T08:52:44.999165Z"
    }
   },
   "cell_type": "code",
   "source": "e['birthplace']",
   "id": "c24984402dc8b751",
   "outputs": [
    {
     "data": {
      "text/plain": [
       "['JKT', 'SBY', 'SMG', 'BDG', 'BGR']"
      ]
     },
     "execution_count": 108,
     "metadata": {},
     "output_type": "execute_result"
    }
   ],
   "execution_count": 108
  },
  {
   "metadata": {},
   "cell_type": "markdown",
   "source": [
    "## Sets\n",
    "\n",
    "Used to store multiple items in a single variable.\n",
    "\n",
    "A set is a collection which is unordered, unchangeable, and unindexed."
   ],
   "id": "2ddbd80d806fb5a"
  },
  {
   "metadata": {
    "ExecuteTime": {
     "end_time": "2025-02-07T04:17:14.452403Z",
     "start_time": "2025-02-07T04:17:14.449166Z"
    }
   },
   "cell_type": "code",
   "source": [
    "this_is_set = {\"ferrari\", \"renault\", \"lamborgini\", \"toyota\"}\n",
    "print(this_is_set)"
   ],
   "id": "355f69a78cbcd110",
   "outputs": [
    {
     "name": "stdout",
     "output_type": "stream",
     "text": [
      "{'renault', 'ferrari', 'toyota', 'lamborgini'}\n"
     ]
    }
   ],
   "execution_count": 7
  },
  {
   "metadata": {},
   "cell_type": "markdown",
   "source": "Duplicates aren't allowed",
   "id": "9371f58d568ca5c5"
  },
  {
   "metadata": {
    "ExecuteTime": {
     "end_time": "2025-02-07T04:19:25.839126Z",
     "start_time": "2025-02-07T04:19:25.832840Z"
    }
   },
   "cell_type": "code",
   "source": [
    "a_set = {\"table\", \"chair\", \"fan\", \"chair\"}\n",
    "a_set"
   ],
   "id": "cf876475ebf39871",
   "outputs": [
    {
     "data": {
      "text/plain": [
       "{'chair', 'fan', 'table'}"
      ]
     },
     "execution_count": 8,
     "metadata": {},
     "output_type": "execute_result"
    }
   ],
   "execution_count": 8
  },
  {
   "metadata": {},
   "cell_type": "markdown",
   "source": "True and 1 is considered the same value",
   "id": "573a4286760f49c2"
  },
  {
   "metadata": {
    "ExecuteTime": {
     "end_time": "2025-02-07T04:23:52.989665Z",
     "start_time": "2025-02-07T04:23:52.986640Z"
    }
   },
   "cell_type": "code",
   "source": [
    "another_set = {\"apple\", \"banana\", \"cherry\", True, 1, 2}\n",
    "\n",
    "print(another_set)"
   ],
   "id": "b23e3ee7e06a30f6",
   "outputs": [
    {
     "name": "stdout",
     "output_type": "stream",
     "text": [
      "{True, 2, 'cherry', 'apple', 'banana'}\n"
     ]
    }
   ],
   "execution_count": 10
  },
  {
   "metadata": {},
   "cell_type": "markdown",
   "source": "False and 0 is considered the same value",
   "id": "b8ba6be27bebadc6"
  },
  {
   "metadata": {
    "ExecuteTime": {
     "end_time": "2025-02-07T04:25:04.203610Z",
     "start_time": "2025-02-07T04:25:04.200241Z"
    }
   },
   "cell_type": "code",
   "source": [
    "thisset = {\"apple\", \"banana\", \"cherry\", False, True, 0}\n",
    "\n",
    "print(thisset)"
   ],
   "id": "d3b72cfd2cdca1d4",
   "outputs": [
    {
     "name": "stdout",
     "output_type": "stream",
     "text": [
      "{False, True, 'cherry', 'apple', 'banana'}\n"
     ]
    }
   ],
   "execution_count": 11
  },
  {
   "metadata": {},
   "cell_type": "markdown",
   "source": [
    "### Tuple\n",
    "\n",
    "Tuples are used to store multiple items in a single variable.\n",
    "\n",
    "A tuple is a collection which is ordered, unchangeable, and allow duplicates.\n",
    "\n",
    "Tuples are written with round brackets."
   ],
   "id": "df0132c30e528c1b"
  },
  {
   "metadata": {
    "ExecuteTime": {
     "end_time": "2025-02-07T04:26:51.898139Z",
     "start_time": "2025-02-07T04:26:51.895939Z"
    }
   },
   "cell_type": "code",
   "source": [
    "tuple1 = (\"key\", \"pins\", \"caps\")\n",
    "print(tuple1)"
   ],
   "id": "3b3503be8f980f51",
   "outputs": [
    {
     "name": "stdout",
     "output_type": "stream",
     "text": [
      "('key', 'pins', 'caps')\n"
     ]
    }
   ],
   "execution_count": 13
  },
  {
   "metadata": {},
   "cell_type": "markdown",
   "source": [
    "# 8) Functions\n",
    "\n",
    "Functions are defined with the **def** keyword followed by the function name and its parameters in brackets ()."
   ],
   "id": "57cdeaeddf6e31e5"
  },
  {
   "metadata": {
    "ExecuteTime": {
     "end_time": "2025-02-06T09:09:06.840278Z",
     "start_time": "2025-02-06T09:09:06.837440Z"
    }
   },
   "cell_type": "code",
   "source": [
    "def func_name():\n",
    "    a_value = \"A value in a function\"\n",
    "    return a_value\n",
    "\n",
    "print(func_name())"
   ],
   "id": "7ca74011a651c70a",
   "outputs": [
    {
     "name": "stdout",
     "output_type": "stream",
     "text": [
      "A value in a function\n"
     ]
    }
   ],
   "execution_count": 112
  },
  {
   "metadata": {
    "ExecuteTime": {
     "end_time": "2025-02-06T09:10:24.322928Z",
     "start_time": "2025-02-06T09:10:24.319391Z"
    }
   },
   "cell_type": "code",
   "source": [
    "def another_func():\n",
    "    # it is named void function in java\n",
    "    print(\"Welcome to python\")\n",
    "\n",
    "def sum_func(x, y):\n",
    "    # Statement\n",
    "    return x+y\n",
    "\n",
    "another_func()\n",
    "sum_func(2, 5)"
   ],
   "id": "67b433f6ad578d70",
   "outputs": [
    {
     "name": "stdout",
     "output_type": "stream",
     "text": [
      "Welcome to python\n"
     ]
    },
    {
     "data": {
      "text/plain": [
       "7"
      ]
     },
     "execution_count": 113,
     "metadata": {},
     "output_type": "execute_result"
    }
   ],
   "execution_count": 113
  },
  {
   "metadata": {},
   "cell_type": "markdown",
   "source": [
    "### Lambda Function\n",
    "\n",
    "a more simple way than using regular function"
   ],
   "id": "e098055912d53cee"
  },
  {
   "metadata": {
    "ExecuteTime": {
     "end_time": "2025-02-06T09:16:50.494277Z",
     "start_time": "2025-02-06T09:16:50.491383Z"
    }
   },
   "cell_type": "code",
   "source": [
    "lamb_func = lambda x, y: x*y\n",
    "print(lamb_func(10, 22))"
   ],
   "id": "8f6903be5cd5dfad",
   "outputs": [
    {
     "name": "stdout",
     "output_type": "stream",
     "text": [
      "220\n"
     ]
    }
   ],
   "execution_count": 115
  },
  {
   "metadata": {},
   "cell_type": "markdown",
   "source": [
    "# 9) Object Oriented Programming (OOP)\n",
    "Object-Oriented Programming (OOP) is a programming paradigm that uses “objects” to design applications and programs. It provides a means of bundling data and functionality together and can help in organizing complex software systems.\n",
    "\n",
    "We're gonna cover up some of the most common used OOP techniques in data science such as :\n",
    "- Objects and Classes\n",
    "- Inheritance\n",
    "- Polymorphism\n",
    "- Abstraction"
   ],
   "id": "9297362b75352968"
  },
  {
   "metadata": {},
   "cell_type": "markdown",
   "source": "<img src=\"https://miro.medium.com/v2/resize:fit:1000/1*tlRI11nhESVLeZczKSh6qQ.png\" alt=\"precedence_img\" width=\"500\">\n",
   "id": "1be843eabbb11f2f"
  },
  {
   "metadata": {},
   "cell_type": "markdown",
   "source": [
    "### Objects and Classes\n",
    "\n",
    "Class : A blueprint for creating objects. A class defines a set of attributes (data) and methods (functions) that the created objects will have.\n",
    "\n",
    "Object : An instance of a class. Objects are created using the class blueprint and can hold unique data while sharing the structure defined by the class."
   ],
   "id": "aa6545c3e7fb4612"
  },
  {
   "metadata": {
    "ExecuteTime": {
     "end_time": "2025-02-06T15:58:55.726915Z",
     "start_time": "2025-02-06T15:58:55.724174Z"
    }
   },
   "cell_type": "code",
   "source": [
    "class DataPoint:\n",
    "    \"\"\"A simple class representing a data point in 2D space.\"\"\"\n",
    "\n",
    "    def __init__(self, x, y):\n",
    "        self.x = x  # Attribute for x-coordinate\n",
    "        self.y = y  # Attribute for y-coordinate\n",
    "\n",
    "    def display(self):\n",
    "        print(f\"DataPoint({self.x}, {self.y})\")\n",
    "\n",
    "# Creating objects (instances) of DataPoint\n",
    "point1 = DataPoint(2, 3)\n",
    "point2 = DataPoint(5, 7)\n",
    "\n",
    "point1.display()  # Output: DataPoint(2, 3)\n",
    "point2.display()  # Output: DataPoint(5, 7)\n"
   ],
   "id": "b9bf23d3e4e3c231",
   "outputs": [
    {
     "name": "stdout",
     "output_type": "stream",
     "text": [
      "DataPoint(2, 3)\n",
      "DataPoint(5, 7)\n"
     ]
    }
   ],
   "execution_count": 4
  },
  {
   "metadata": {},
   "cell_type": "markdown",
   "source": [
    "### Inheritance\n",
    "\n",
    "A mechanism where a new class (child or subclass) inherits attributes and methods from an existing class (parent or superclass). This allows for code reuse and the creation of a hierarchical relationship between classes."
   ],
   "id": "3784273d85b7daf6"
  },
  {
   "metadata": {
    "ExecuteTime": {
     "end_time": "2025-02-06T10:19:16.600951Z",
     "start_time": "2025-02-06T10:19:16.597551Z"
    }
   },
   "cell_type": "code",
   "source": [
    "class DataPoint:\n",
    "    def __init__(self, x, y):\n",
    "        self.x = x\n",
    "        self.y = y\n",
    "\n",
    "    def display(self):\n",
    "        print(f\"DataPoint({self.x}, {self.y})\")\n",
    "\n",
    "# Inheriting from DataPoint\n",
    "class LabeledDataPoint(DataPoint):\n",
    "    def __init__(self, x, y, label):\n",
    "        super().__init__(x, y)  # Initialize attributes from the parent class\n",
    "        self.label = label     # New attribute specific to the subclass\n",
    "\n",
    "    def display(self):\n",
    "        # Override display to include the label\n",
    "        print(f\"LabeledDataPoint({self.x}, {self.y}, label={self.label})\")\n",
    "\n",
    "# Creating an object of LabeledDataPoint\n",
    "labeled_point = LabeledDataPoint(2, 3, \"Budiman\")\n",
    "labeled_point.display()  # Output: LabeledDataPoint(2, 3, label=Budiman)\n"
   ],
   "id": "59d7cce75502ab02",
   "outputs": [
    {
     "name": "stdout",
     "output_type": "stream",
     "text": [
      "LabeledDataPoint(2, 3, label=Budiman)\n"
     ]
    }
   ],
   "execution_count": 118
  },
  {
   "metadata": {},
   "cell_type": "markdown",
   "source": [
    "### Polymorphism\n",
    "\n",
    "The ability for different classes to be treated as instances of the same class through a common interface. It allows methods to be used in different ways depending on the object that is calling them."
   ],
   "id": "4f75cab2906251f5"
  },
  {
   "metadata": {
    "ExecuteTime": {
     "end_time": "2025-02-06T15:44:16.472796Z",
     "start_time": "2025-02-06T15:44:16.468054Z"
    }
   },
   "cell_type": "code",
   "source": [
    "class DataPoint:\n",
    "    def display(self):\n",
    "        print(\"I am a generic data point.\")\n",
    "\n",
    "class LabeledDataPoint(DataPoint):\n",
    "    def display(self):\n",
    "        print(\"I am a labeled data point.\")\n",
    "\n",
    "class WeightedDataPoint(DataPoint):\n",
    "    def display(self):\n",
    "        print(\"I am a weighted data point.\")\n",
    "\n",
    "# A function that accepts any object with a display() method\n",
    "def show_data_point(dp: DataPoint):\n",
    "    dp.display()\n",
    "\n",
    "# Creating different types of data points\n",
    "dp1 = DataPoint()\n",
    "dp2 = LabeledDataPoint()\n",
    "dp3 = WeightedDataPoint()\n",
    "\n",
    "# Each object responds differently to the same method call\n",
    "show_data_point(dp1)  # Output: I am a generic data point.\n",
    "show_data_point(dp2)  # Output: I am a labeled data point.\n",
    "show_data_point(dp3)  # Output: I am a weighted data point.\n"
   ],
   "id": "7c0ae4c896a029eb",
   "outputs": [
    {
     "name": "stdout",
     "output_type": "stream",
     "text": [
      "I am a generic data point.\n",
      "I am a labeled data point.\n",
      "I am a weighted data point.\n"
     ]
    }
   ],
   "execution_count": 1
  },
  {
   "metadata": {},
   "cell_type": "markdown",
   "source": [
    "### Abstraction\n",
    "\n",
    "The process of hiding the complex implementation details and showing only the necessary features of an object. In Python, you can achieve abstraction using abstract base classes (ABCs) provided by the abc module."
   ],
   "id": "d6316793d819f655"
  },
  {
   "metadata": {
    "ExecuteTime": {
     "end_time": "2025-02-06T15:54:47.877449Z",
     "start_time": "2025-02-06T15:54:47.872884Z"
    }
   },
   "cell_type": "code",
   "source": [
    "from abc import ABC, abstractmethod\n",
    "\n",
    "class DataProcessor(ABC):\n",
    "    \"\"\"Abstract base class for data processing.\"\"\"\n",
    "\n",
    "    @abstractmethod\n",
    "    def process(self, data):\n",
    "        \"\"\"Process the data and return the result.\"\"\"\n",
    "        pass\n",
    "\n",
    "class Normalizer(DataProcessor):\n",
    "    def process(self, data):\n",
    "        # Simple normalization: (value - min) / (max - min)\n",
    "        min_val = min(data)\n",
    "        max_val = max(data)\n",
    "        return [(x - min_val) / (max_val - min_val) for x in data]\n",
    "\n",
    "class Standardizer(DataProcessor):\n",
    "    def process(self, data):\n",
    "        # Standardize: (value - mean) / std\n",
    "        mean_val = sum(data) / len(data)\n",
    "        variance = sum((x - mean_val) ** 2 for x in data) / len(data)\n",
    "        std = variance ** 0.5\n",
    "        return [(x - mean_val) / std for x in data]\n",
    "\n",
    "# Usage\n",
    "data = [10, 20, 30, 40, 50]\n",
    "\n",
    "normalizer = Normalizer()\n",
    "standardizer = Standardizer()\n",
    "\n",
    "print(\"Normalized data:\", normalizer.process(data))\n",
    "print(\"Standardized data:\", standardizer.process(data))\n"
   ],
   "id": "fbc8eae4cfc878ca",
   "outputs": [
    {
     "name": "stdout",
     "output_type": "stream",
     "text": [
      "Normalized data: [0.0, 0.25, 0.5, 0.75, 1.0]\n",
      "Standardized data: [-1.414213562373095, -0.7071067811865475, 0.0, 0.7071067811865475, 1.414213562373095]\n"
     ]
    }
   ],
   "execution_count": 2
  },
  {
   "metadata": {},
   "cell_type": "markdown",
   "source": [
    "## Yeay you've learn a lot!! &#127937;\n",
    "\n",
    "You can freely check other python materials in the web\n",
    "\n",
    "Now let's test your knowledge at `practice.ipynb`"
   ],
   "id": "b0d974f69c67f1f4"
  }
 ],
 "metadata": {
  "kernelspec": {
   "display_name": "Python 3",
   "language": "python",
   "name": "python3"
  },
  "language_info": {
   "codemirror_mode": {
    "name": "ipython",
    "version": 2
   },
   "file_extension": ".py",
   "mimetype": "text/x-python",
   "name": "python",
   "nbconvert_exporter": "python",
   "pygments_lexer": "ipython2",
   "version": "2.7.6"
  }
 },
 "nbformat": 4,
 "nbformat_minor": 5
}
